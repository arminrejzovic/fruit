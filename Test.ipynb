{
 "cells": [
  {
   "cell_type": "code",
   "execution_count": 2,
   "metadata": {
    "collapsed": true,
    "pycharm": {
     "name": "#%%\n"
    }
   },
   "outputs": [],
   "source": [
    "import numpy as np"
   ]
  },
  {
   "cell_type": "code",
   "execution_count": 17,
   "outputs": [
    {
     "name": "stdout",
     "output_type": "stream",
     "text": [
      "WEIGHT TRANSPOSE\n",
      "[[1 2 3 4]\n",
      " [3 5 7 9]]\n",
      "----------\n",
      "[[ 7 12 17 22]\n",
      " [11 19 27 35]\n",
      " [15 26 37 48]\n",
      " [19 33 47 61]]\n"
     ]
    }
   ],
   "source": [
    "inputs = [\n",
    "    [1, 2],\n",
    "    [2, 3],\n",
    "    [3, 4],\n",
    "    [4, 5],\n",
    "]\n",
    "\n",
    "weights = [\n",
    "    [1, 3],\n",
    "    [2, 5],\n",
    "    [3, 7],\n",
    "    [4, 9]\n",
    "]\n",
    "\n",
    "biases = [0,0,0,0]\n",
    "\n",
    "inputs = np.array(inputs)\n",
    "weights = np.array(weights).T\n",
    "\n",
    "print(\"WEIGHT TRANSPOSE\")\n",
    "print(weights)\n",
    "\n",
    "print(\"----------\")\n",
    "\n",
    "results = np.dot(inputs, weights) + biases\n",
    "print(results)\n",
    "\n",
    "\n",
    "# 4 inputa\n",
    "# 1 hidden\n",
    "# 4 outputa\n",
    "\n"
   ],
   "metadata": {
    "collapsed": false,
    "pycharm": {
     "name": "#%%\n"
    }
   }
  }
 ],
 "metadata": {
  "kernelspec": {
   "display_name": "Python 3",
   "language": "python",
   "name": "python3"
  },
  "language_info": {
   "codemirror_mode": {
    "name": "ipython",
    "version": 2
   },
   "file_extension": ".py",
   "mimetype": "text/x-python",
   "name": "python",
   "nbconvert_exporter": "python",
   "pygments_lexer": "ipython2",
   "version": "2.7.6"
  }
 },
 "nbformat": 4,
 "nbformat_minor": 0
}