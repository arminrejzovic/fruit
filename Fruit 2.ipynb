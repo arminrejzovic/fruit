{
 "cells": [
  {
   "cell_type": "code",
   "execution_count": 1,
   "metadata": {
    "collapsed": true,
    "pycharm": {
     "name": "#%%\n"
    }
   },
   "outputs": [],
   "source": [
    "import os\n",
    "import cv2\n",
    "import numpy as np"
   ]
  },
  {
   "cell_type": "code",
   "execution_count": 2,
   "outputs": [],
   "source": [
    "class Layer_Dense:\n",
    "    def __init__(self, n_inputs, n_neurons, weight_regularizer_l1=0, weight_regularizer_l2=0,bias_regularizer_l1=0, bias_regularizer_l2=0):\n",
    "\n",
    "        self.weights = 0.01 * np.random.randn(n_inputs, n_neurons)\n",
    "        self.biases = np.zeros((1, n_neurons))\n",
    "\n",
    "        self.weight_regularizer_l1 = weight_regularizer_l1\n",
    "        self.weight_regularizer_l2 = weight_regularizer_l2\n",
    "        self.bias_regularizer_l1 = bias_regularizer_l1\n",
    "        self.bias_regularizer_l2 = bias_regularizer_l2\n",
    "\n",
    "    def forward(self, inputs):\n",
    "        self.inputs = inputs\n",
    "        self.output = np.dot(inputs, self.weights) + self.biases\n",
    "\n",
    "    def backward(self, dvalues):\n",
    "        self.dweights = np.dot(self.inputs.T, dvalues)\n",
    "        self.dbiases = np.sum(dvalues, axis=0, keepdims=True)\n",
    "\n",
    "        if self.weight_regularizer_l1 > 0:\n",
    "            dL1 = np.ones_like(self.weights)\n",
    "            dL1[self.weights < 0] = -1\n",
    "            self.dweights += self.weight_regularizer_l1 * dL1\n",
    "\n",
    "        if self.weight_regularizer_l2 > 0:\n",
    "            self.dweights += 2 * self.weight_regularizer_l2 * \\\n",
    "            self.weights\n",
    "\n",
    "        if self.bias_regularizer_l1 > 0:\n",
    "            dL1 = np.ones_like(self.biases)\n",
    "            dL1[self.biases < 0] = -1\n",
    "            self.dbiases += self.bias_regularizer_l1 * dL1\n",
    "\n",
    "        if self.bias_regularizer_l2 > 0:\n",
    "            self.dbiases += 2 * self.bias_regularizer_l2 * \\\n",
    "            self.biases\n",
    "\n",
    "        self.dinputs = np.dot(dvalues, self.weights.T)"
   ],
   "metadata": {
    "collapsed": false,
    "pycharm": {
     "name": "#%%\n"
    }
   }
  },
  {
   "cell_type": "code",
   "execution_count": 3,
   "outputs": [],
   "source": [
    "class Layer_Dropout:\n",
    "    def __init__(self, rate):\n",
    "        self.rate = 1 - rate\n",
    "\n",
    "    def forward(self, inputs):\n",
    "        self.inputs = inputs\n",
    "        self.binary_mask = np.random.binomial(1, self.rate, size=inputs.shape) / self.rate\n",
    "        self.output = inputs * self.binary_mask\n",
    "\n",
    "    def backward(self, dvalues):\n",
    "        self.dinputs = dvalues * self.binary_mask"
   ],
   "metadata": {
    "collapsed": false,
    "pycharm": {
     "name": "#%%\n"
    }
   }
  },
  {
   "cell_type": "code",
   "execution_count": 4,
   "outputs": [],
   "source": [
    "class Activation_ReLU:\n",
    "    def forward(self, inputs):\n",
    "        self.inputs = inputs\n",
    "        self.output = np.maximum(0, inputs)\n",
    "\n",
    "    def backward(self, dvalues):\n",
    "        self.dinputs = dvalues.copy()\n",
    "        self.dinputs[self.inputs <= 0] = 0"
   ],
   "metadata": {
    "collapsed": false,
    "pycharm": {
     "name": "#%%\n"
    }
   }
  },
  {
   "cell_type": "code",
   "execution_count": 5,
   "outputs": [],
   "source": [
    "class Activation_Softmax:\n",
    "    def forward(self, inputs):\n",
    "        self.inputs = inputs\n",
    "        exp_values = np.exp(inputs - np.max(inputs, axis=1, keepdims=True))\n",
    "        probabilities = exp_values / np.sum(exp_values, axis=1, keepdims=True)\n",
    "        self.output = probabilities\n",
    "\n",
    "    def backward(self, dvalues):\n",
    "        self.dinputs = np.empty_like(dvalues)\n",
    "\n",
    "        for index, (single_output, single_dvalues) in enumerate(zip(self.output, dvalues)):\n",
    "            single_output = single_output.reshape(-1, 1)\n",
    "            jacobian_matrix = np.diagflat(single_output) - np.dot(single_output, single_output.T)\n",
    "            self.dinputs[index] = np.dot(jacobian_matrix, single_dvalues)"
   ],
   "metadata": {
    "collapsed": false,
    "pycharm": {
     "name": "#%%\n"
    }
   }
  },
  {
   "cell_type": "code",
   "execution_count": 6,
   "outputs": [],
   "source": [
    "class Activation_Sigmoid:\n",
    "    def forward(self, inputs):\n",
    "        self.inputs = inputs\n",
    "        self.output = 1 / (1 + np.exp(-inputs))\n",
    "\n",
    "    def backward(self, dvalues):\n",
    "        self.dinputs = dvalues * (1 - self.output) * self.output"
   ],
   "metadata": {
    "collapsed": false,
    "pycharm": {
     "name": "#%%\n"
    }
   }
  },
  {
   "cell_type": "code",
   "execution_count": 7,
   "outputs": [],
   "source": [
    "class Optimizer_SGD:\n",
    "    def __init__(self, learning_rate=1., decay=0., momentum=0.):\n",
    "        self.learning_rate = learning_rate\n",
    "        self.current_learning_rate = learning_rate\n",
    "        self.decay = decay\n",
    "        self.iterations = 0\n",
    "        self.momentum = momentum\n",
    "\n",
    "    def pre_update_params(self):\n",
    "        if self.decay:\n",
    "            self.current_learning_rate = self.learning_rate * (1. / (1. + self.decay * self.iterations))\n",
    "\n",
    "    def update_params(self, layer):\n",
    "        if self.momentum:\n",
    "            if not hasattr(layer, 'weight_momentums'):\n",
    "                layer.weight_momentums = np.zeros_like(layer.weights)\n",
    "                layer.bias_momentums = np.zeros_like(layer.biases)\n",
    "            weight_updates = self.momentum * layer.weight_momentums - self.current_learning_rate * layer.dweights\n",
    "            layer.weight_momentums = weight_updates\n",
    "\n",
    "            bias_updates = self.momentum * layer.bias_momentums - self.current_learning_rate * layer.dbiases\n",
    "            layer.bias_momentums = bias_updates\n",
    "\n",
    "        else:\n",
    "            weight_updates = -self.current_learning_rate * layer.dweights\n",
    "            bias_updates = -self.current_learning_rate * layer.dbiases\n",
    "\n",
    "        layer.weights += weight_updates\n",
    "        layer.biases += bias_updates\n",
    "\n",
    "\n",
    "    def post_update_params(self):\n",
    "        self.iterations += 1"
   ],
   "metadata": {
    "collapsed": false,
    "pycharm": {
     "name": "#%%\n"
    }
   }
  },
  {
   "cell_type": "code",
   "execution_count": 8,
   "outputs": [],
   "source": [
    "class Optimizer_Adagrad:\n",
    "    def __init__(self, learning_rate=1., decay=0., epsilon=1e-7):\n",
    "        self.learning_rate = learning_rate\n",
    "        self.current_learning_rate = learning_rate\n",
    "        self.decay = decay\n",
    "        self.iterations = 0\n",
    "        self.epsilon = epsilon\n",
    "\n",
    "    def pre_update_params(self):\n",
    "        if self.decay:\n",
    "            self.current_learning_rate = self.learning_rate * (1. / (1. + self.decay * self.iterations))\n",
    "\n",
    "    def update_params(self, layer):\n",
    "        if not hasattr(layer, 'weight_cache'):\n",
    "            layer.weight_cache = np.zeros_like(layer.weights)\n",
    "            layer.bias_cache = np.zeros_like(layer.biases)\n",
    "\n",
    "        layer.weight_cache += layer.dweights**2\n",
    "        layer.bias_cache += layer.dbiases**2\n",
    "\n",
    "        layer.weights += -self.current_learning_rate * layer.dweights / (np.sqrt(layer.weight_cache) + self.epsilon)\n",
    "        layer.biases += -self.current_learning_rate * \\\n",
    "        layer.dbiases / (np.sqrt(layer.bias_cache) + self.epsilon)\n",
    "\n",
    "\n",
    "    def post_update_params(self):\n",
    "        self.iterations += 1"
   ],
   "metadata": {
    "collapsed": false,
    "pycharm": {
     "name": "#%%\n"
    }
   }
  },
  {
   "cell_type": "code",
   "execution_count": 9,
   "outputs": [],
   "source": [
    "class Optimizer_RMSprop:\n",
    "    def __init__(self, learning_rate=0.001, decay=0., epsilon=1e-7, rho=0.9):\n",
    "        self.learning_rate = learning_rate\n",
    "        self.current_learning_rate = learning_rate\n",
    "        self.decay = decay\n",
    "        self.iterations = 0\n",
    "        self.epsilon = epsilon\n",
    "        self.rho = rho\n",
    "\n",
    "    def pre_update_params(self):\n",
    "        if self.decay:\n",
    "            self.current_learning_rate = self.learning_rate * (1. / (1. + self.decay * self.iterations))\n",
    "\n",
    "    def update_params(self, layer):\n",
    "        if not hasattr(layer, 'weight_cache'):\n",
    "            layer.weight_cache = np.zeros_like(layer.weights)\n",
    "            layer.bias_cache = np.zeros_like(layer.biases)\n",
    "\n",
    "        layer.weight_cache = self.rho * layer.weight_cache + (1 - self.rho) * layer.dweights**2\n",
    "        layer.bias_cache = self.rho * layer.bias_cache + (1 - self.rho) * layer.dbiases**2\n",
    "\n",
    "        layer.weights += -self.current_learning_rate * layer.dweights / (np.sqrt(layer.weight_cache) + self.epsilon)\n",
    "\n",
    "        layer.biases += -self.current_learning_rate * layer.dbiases / (np.sqrt(layer.bias_cache) + self.epsilon)\n",
    "\n",
    "    def post_update_params(self):\n",
    "        self.iterations += 1\n"
   ],
   "metadata": {
    "collapsed": false,
    "pycharm": {
     "name": "#%%\n"
    }
   }
  },
  {
   "cell_type": "code",
   "execution_count": 10,
   "outputs": [],
   "source": [
    "class Optimizer_Adam:\n",
    "    def __init__(self, learning_rate=0.001, decay=0., epsilon=1e-7, beta_1=0.9, beta_2=0.999):\n",
    "        self.learning_rate = learning_rate\n",
    "        self.current_learning_rate = learning_rate\n",
    "        self.decay = decay\n",
    "        self.iterations = 0\n",
    "        self.epsilon = epsilon\n",
    "        self.beta_1 = beta_1\n",
    "        self.beta_2 = beta_2\n",
    "\n",
    "    def pre_update_params(self):\n",
    "        if self.decay:\n",
    "            self.current_learning_rate = self.learning_rate * (1. / (1. + self.decay * self.iterations))\n",
    "\n",
    "    def update_params(self, layer):\n",
    "        if not hasattr(layer, 'weight_cache'):\n",
    "            layer.weight_momentums = np.zeros_like(layer.weights)\n",
    "            layer.weight_cache = np.zeros_like(layer.weights)\n",
    "            layer.bias_momentums = np.zeros_like(layer.biases)\n",
    "            layer.bias_cache = np.zeros_like(layer.biases)\n",
    "\n",
    "        layer.weight_momentums = self.beta_1 * layer.weight_momentums + (1 - self.beta_1) * layer.dweights\n",
    "\n",
    "        layer.bias_momentums = self.beta_1 * layer.bias_momentums + (1 - self.beta_1) * layer.dbiases\n",
    "\n",
    "        weight_momentums_corrected = layer.weight_momentums / (1 - self.beta_1 ** (self.iterations + 1))\n",
    "\n",
    "        bias_momentums_corrected = layer.bias_momentums / (1 - self.beta_1 ** (self.iterations + 1))\n",
    "\n",
    "        layer.weight_cache = self.beta_2 * layer.weight_cache + (1 - self.beta_2) * layer.dweights**2\n",
    "\n",
    "        layer.bias_cache = self.beta_2 * layer.bias_cache + (1 - self.beta_2) * layer.dbiases**2\n",
    "\n",
    "        weight_cache_corrected = layer.weight_cache / (1 - self.beta_2 ** (self.iterations + 1))\n",
    "\n",
    "        bias_cache_corrected = layer.bias_cache / (1 - self.beta_2 ** (self.iterations + 1))\n",
    "\n",
    "        layer.weights += -self.current_learning_rate * weight_momentums_corrected / (np.sqrt(weight_cache_corrected) +self.epsilon)\n",
    "\n",
    "        layer.biases += -self.current_learning_rate * bias_momentums_corrected / (np.sqrt(bias_cache_corrected) + self.epsilon)\n",
    "\n",
    "    def post_update_params(self):\n",
    "        self.iterations += 1"
   ],
   "metadata": {
    "collapsed": false,
    "pycharm": {
     "name": "#%%\n"
    }
   }
  },
  {
   "cell_type": "code",
   "execution_count": 11,
   "outputs": [],
   "source": [
    "class Loss:\n",
    "    def regularization_loss(self, layer):\n",
    "        regularization_loss = 0\n",
    "        if layer.weight_regularizer_l1 > 0:\n",
    "            regularization_loss += layer.weight_regularizer_l1 * np.sum(np.abs(layer.weights))\n",
    "\n",
    "        if layer.weight_regularizer_l2 > 0:\n",
    "            regularization_loss += layer.weight_regularizer_l2 * np.sum(layer.weights * layer.weights)\n",
    "\n",
    "        if layer.bias_regularizer_l1 > 0:\n",
    "            regularization_loss += layer.bias_regularizer_l1 * np.sum(np.abs(layer.biases))\n",
    "\n",
    "        if layer.bias_regularizer_l2 > 0:\n",
    "            regularization_loss += layer.bias_regularizer_l2 * np.sum(layer.biases * layer.biases)\n",
    "\n",
    "        return regularization_loss\n",
    "\n",
    "    def calculate(self, output, y):\n",
    "        sample_losses = self.forward(output, y)\n",
    "        data_loss = np.mean(sample_losses)\n",
    "        return data_loss\n"
   ],
   "metadata": {
    "collapsed": false,
    "pycharm": {
     "name": "#%%\n"
    }
   }
  },
  {
   "cell_type": "code",
   "execution_count": 16,
   "outputs": [],
   "source": [
    "class Loss_CategoricalCrossentropy(Loss):\n",
    "    def forward(self, y_pred, y_true):\n",
    "        samples = len(y_pred)\n",
    "        y_pred_clipped = np.clip(y_pred, 1e-7, 1 - 1e-7)\n",
    "        if len(y_true.shape) == 1:\n",
    "            y_true = y_true.astype(int)  # Convert y_true to integers\n",
    "            correct_confidences = y_pred_clipped[range(samples), y_true]\n",
    "        elif len(y_true.shape) == 2:\n",
    "            correct_confidences = np.sum(y_pred_clipped * y_true, axis=1)\n",
    "        negative_log_likelihoods = -np.log(correct_confidences)\n",
    "        return negative_log_likelihoods\n",
    "\n",
    "    def backward(self, dvalues, y_true):\n",
    "        samples = len(dvalues)\n",
    "        labels = len(dvalues[0])\n",
    "        if len(y_true.shape) == 1:\n",
    "            y_true = np.eye(labels)[y_true]\n",
    "\n",
    "        self.dinputs = -y_true / dvalues\n",
    "        self.dinputs = self.dinputs / samples"
   ],
   "metadata": {
    "collapsed": false,
    "pycharm": {
     "name": "#%%\n"
    }
   }
  },
  {
   "cell_type": "code",
   "execution_count": 13,
   "outputs": [],
   "source": [
    "class Activation_Softmax_Loss_CategoricalCrossentropy():\n",
    "    def __init__(self):\n",
    "        self.activation = Activation_Softmax()\n",
    "        self.loss = Loss_CategoricalCrossentropy()\n",
    "\n",
    "    def forward(self, inputs, y_true):\n",
    "        self.activation.forward(inputs)\n",
    "        self.output = self.activation.output\n",
    "        return self.loss.calculate(self.output, y_true)\n",
    "\n",
    "    def backward(self, dvalues, y_true):\n",
    "        samples = len(dvalues)\n",
    "        if len(y_true.shape) == 2:\n",
    "            y_true = np.argmax(y_true, axis=1)\n",
    "        self.dinputs = dvalues.copy()\n",
    "        self.dinputs[range(samples), y_true] -= 1\n",
    "        self.dinputs = self.dinputs / samples"
   ],
   "metadata": {
    "collapsed": false,
    "pycharm": {
     "name": "#%%\n"
    }
   }
  },
  {
   "cell_type": "code",
   "execution_count": 14,
   "outputs": [],
   "source": [
    "class Loss_BinaryCrossentropy(Loss):\n",
    "    def forward(self, y_pred, y_true):\n",
    "        y_pred_clipped = np.clip(y_pred, 1e-7, 1 - 1e-7)\n",
    "        sample_losses = -(y_true * np.log(y_pred_clipped) + (1 - y_true) * np.log(1 - y_pred_clipped))\n",
    "        sample_losses = np.mean(sample_losses, axis=-1)\n",
    "        return sample_losses\n",
    "\n",
    "    def backward(self, dvalues, y_true):\n",
    "        samples = len(dvalues)\n",
    "        outputs = len(dvalues[0])\n",
    "        clipped_dvalues = np.clip(dvalues, 1e-7, 1 - 1e-7)\n",
    "        self.dinputs = -(y_true / clipped_dvalues - (1 - y_true) / (1 - clipped_dvalues)) / outputs\n",
    "        self.dinputs = self.dinputs / samples"
   ],
   "metadata": {
    "collapsed": false,
    "pycharm": {
     "name": "#%%\n"
    }
   }
  },
  {
   "cell_type": "code",
   "execution_count": 37,
   "outputs": [],
   "source": [
    "# Define the path to the images folder\n",
    "images_folder = os.path.join(os.getcwd(), 'images')\n",
    "\n",
    "# Define the list of fruit types\n",
    "fruit_types = [\"apple\", \"banana\", \"cherry\", \"chickoo\", \"grapes\", \"kiwi\", \"mango\", \"orange\", \"strawberry\"]\n",
    "\n",
    "# Define the lists to store the dataset and labels\n",
    "dataset = []\n",
    "labels = []\n",
    "\n",
    "# Iterate over each fruit type\n",
    "for fruit_type in fruit_types:\n",
    "    # Define the path to the fruit type folder\n",
    "    fruit_folder = os.path.join(images_folder, fruit_type)\n",
    "\n",
    "    # Iterate over the image files in the fruit type folder\n",
    "    for image_file in os.listdir(fruit_folder):\n",
    "        # Construct the image file path\n",
    "        image_path = os.path.join(fruit_folder, image_file)\n",
    "\n",
    "        # Load the image\n",
    "        image = cv2.imread(image_path)\n",
    "\n",
    "        # Check if the image is loaded successfully\n",
    "        if image is not None:\n",
    "            # Preprocess the image as needed (e.g., resizing, normalization)\n",
    "            image = cv2.resize(image, (64, 64))\n",
    "            image = image / 255.0\n",
    "\n",
    "            # Append the preprocessed image and its corresponding label to the lists\n",
    "            dataset.append(image)\n",
    "            labels.append(fruit_types.index(fruit_type))\n",
    "        else:\n",
    "            print(f\"Failed to load image: {image_path}\")\n",
    "\n",
    "# Convert the dataset and labels to numpy arrays\n",
    "dataset = np.array(dataset)\n",
    "labels = np.array(labels)\n",
    "\n",
    "# Reshape the dataset to 2D array\n",
    "dataset = np.reshape(dataset, (dataset.shape[0], -1))\n",
    "\n",
    "# Shuffle the dataset and labels\n",
    "shuffle_indices = np.random.permutation(len(dataset))\n",
    "dataset = dataset[shuffle_indices]\n",
    "labels = labels[shuffle_indices]\n",
    "\n",
    "# Split the data into training and testing sets\n",
    "train_ratio = 0.8\n",
    "split_index = int(train_ratio * len(dataset))\n",
    "\n",
    "X_train = dataset[:split_index]\n",
    "Y_train = labels[:split_index]\n",
    "\n",
    "X_test = dataset[split_index:]\n",
    "Y_test = labels[split_index:]"
   ],
   "metadata": {
    "collapsed": false,
    "pycharm": {
     "name": "#%%\n"
    }
   }
  },
  {
   "cell_type": "code",
   "execution_count": 363,
   "outputs": [
    {
     "name": "stdout",
     "output_type": "stream",
     "text": [
      "epoch: 0, acc: 0.118, loss: 2.197\n",
      "epoch: 10, acc: 0.150, loss: 2.147\n",
      "epoch: 20, acc: 0.300, loss: 1.919\n",
      "epoch: 30, acc: 0.429, loss: 1.561\n",
      "epoch: 40, acc: 0.568, loss: 1.268\n",
      "epoch: 50, acc: 0.638, loss: 1.113\n",
      "epoch: 60, acc: 0.659, loss: 0.928\n",
      "epoch: 70, acc: 0.756, loss: 0.748\n",
      "epoch: 80, acc: 0.774, loss: 0.689\n",
      "epoch: 90, acc: 0.805, loss: 0.566\n",
      "epoch: 100, acc: 0.861, loss: 0.458\n",
      "epoch: 110, acc: 0.906, loss: 0.372\n",
      "epoch: 120, acc: 0.885, loss: 0.358\n",
      "epoch: 130, acc: 0.955, loss: 0.228\n",
      "epoch: 140, acc: 0.934, loss: 0.241\n",
      "epoch: 150, acc: 0.944, loss: 0.243\n",
      "Test accuracy: 0.472, Test loss: 2.812\n"
     ]
    }
   ],
   "source": [
    "# Create the model\n",
    "dense1 = Layer_Dense(X_train.shape[1], 128, weight_regularizer_l2=1e-3, bias_regularizer_l2=1e-3)\n",
    "activation1 = Activation_ReLU()\n",
    "dropout = Layer_Dropout(0.5)  # Adjust the dropout rate as needed\n",
    "dense2 = Layer_Dense(128, 64, weight_regularizer_l2=1e-3, bias_regularizer_l2=1e-3)\n",
    "activation2 = Activation_ReLU()\n",
    "dense3 = Layer_Dense(64, len(fruit_types))\n",
    "activation3 = Activation_Softmax()\n",
    "\n",
    "# Define the loss function\n",
    "loss_function = Loss_CategoricalCrossentropy()\n",
    "\n",
    "# Define the optimizer\n",
    "optimizer = Optimizer_Adam(learning_rate=0.001, decay=1e-7)\n",
    "\n",
    "# Training loop\n",
    "for epoch in range(151):\n",
    "    # Forward pass\n",
    "    dense1.forward(X_train)\n",
    "    activation1.forward(dense1.output)\n",
    "    dropout.forward(activation1.output)\n",
    "    dense2.forward(dropout.output)\n",
    "    activation2.forward(dense2.output)\n",
    "    dense3.forward(activation2.output)\n",
    "    activation3.forward(dense3.output)\n",
    "\n",
    "    # Calculate loss\n",
    "    loss = loss_function.calculate(activation3.output, Y_train)\n",
    "\n",
    "    # Calculate accuracy\n",
    "    predictions = np.argmax(activation3.output, axis=1)\n",
    "    accuracy = np.mean(predictions == Y_train)\n",
    "\n",
    "    if epoch % 10 == 0:\n",
    "        print(f\"epoch: {epoch}, acc: {accuracy:.3f}, loss: {loss:.3f}\")\n",
    "\n",
    "    # Backward pass\n",
    "    loss_function.backward(activation3.output, Y_train)\n",
    "    activation3.backward(loss_function.dinputs)\n",
    "    dense3.backward(activation3.dinputs)\n",
    "    activation2.backward(dense3.dinputs)\n",
    "    dense2.backward(activation2.dinputs)\n",
    "    dropout.backward(dense2.dinputs)\n",
    "    activation1.backward(dropout.dinputs)\n",
    "    dense1.backward(activation1.dinputs)\n",
    "\n",
    "    # Update parameters\n",
    "    optimizer.pre_update_params()\n",
    "    optimizer.update_params(dense1)\n",
    "    optimizer.update_params(dense2)\n",
    "    optimizer.update_params(dense3)\n",
    "    optimizer.post_update_params()\n",
    "\n",
    "# Testing\n",
    "dense1.forward(X_test)\n",
    "activation1.forward(dense1.output)\n",
    "dropout.forward(activation1.output)\n",
    "dense2.forward(dropout.output)\n",
    "activation2.forward(dense2.output)\n",
    "dense3.forward(activation2.output)\n",
    "activation3.forward(dense3.output)\n",
    "\n",
    "# Calculate the loss and accuracy on the testing set\n",
    "test_loss = loss_function.calculate(activation3.output, Y_test)\n",
    "test_predictions = np.argmax(activation3.output, axis=1)\n",
    "test_accuracy = np.mean(test_predictions == Y_test)\n",
    "\n",
    "print(f\"Test accuracy: {test_accuracy:.3f}, Test loss: {test_loss:.3f}\")"
   ],
   "metadata": {
    "collapsed": false,
    "pycharm": {
     "name": "#%%\n"
    }
   }
  },
  {
   "cell_type": "code",
   "execution_count": 364,
   "outputs": [
    {
     "name": "stdout",
     "output_type": "stream",
     "text": [
      "epoch: 0, acc: 0.115, loss: 2.197\n",
      "epoch: 100, acc: 0.916, loss: 0.354\n",
      "epoch: 200, acc: 1.000, loss: 0.037\n",
      "epoch: 300, acc: 1.000, loss: 0.078\n",
      "epoch: 400, acc: 1.000, loss: 0.028\n",
      "Test accuracy: 0.486, Test loss: 2.823\n"
     ]
    }
   ],
   "source": [
    "# Create the model\n",
    "dense1 = Layer_Dense(X_train.shape[1], 128, weight_regularizer_l2=1e-3, bias_regularizer_l2=1e-3)\n",
    "activation1 = Activation_ReLU()\n",
    "dense2 = Layer_Dense(128, 64, weight_regularizer_l2=1e-3, bias_regularizer_l2=1e-3)\n",
    "activation2 = Activation_ReLU()\n",
    "dense3 = Layer_Dense(64, len(fruit_types))\n",
    "activation3 = Activation_Softmax()\n",
    "\n",
    "# Define the loss function\n",
    "loss_function = Loss_CategoricalCrossentropy()\n",
    "\n",
    "# Define the optimizer\n",
    "optimizer = Optimizer_Adam(learning_rate=0.001, decay=1e-7)\n",
    "\n",
    "# Training loop\n",
    "for epoch in range(401):\n",
    "    # Forward pass\n",
    "    dense1.forward(X_train)\n",
    "    activation1.forward(dense1.output)\n",
    "    dense2.forward(activation1.output)\n",
    "    activation2.forward(dense2.output)\n",
    "    dense3.forward(activation2.output)\n",
    "    activation3.forward(dense3.output)\n",
    "\n",
    "    # Calculate loss\n",
    "    loss = loss_function.calculate(activation3.output, Y_train)\n",
    "\n",
    "    # Calculate accuracy\n",
    "    predictions = np.argmax(activation3.output, axis=1)\n",
    "    accuracy = np.mean(predictions == Y_train)\n",
    "\n",
    "    if epoch % 100 == 0:\n",
    "        print(f\"epoch: {epoch}, acc: {accuracy:.3f}, loss: {loss:.3f}\")\n",
    "\n",
    "    # Backward pass\n",
    "    loss_function.backward(activation3.output, Y_train)\n",
    "    activation3.backward(loss_function.dinputs)\n",
    "    dense3.backward(activation3.dinputs)\n",
    "    activation2.backward(dense3.dinputs)\n",
    "    dense2.backward(activation2.dinputs)\n",
    "    activation1.backward(dense2.dinputs)\n",
    "    dense1.backward(activation1.dinputs)\n",
    "\n",
    "    # Update parameters\n",
    "    optimizer.pre_update_params()\n",
    "    optimizer.update_params(dense1)\n",
    "    optimizer.update_params(dense2)\n",
    "    optimizer.update_params(dense3)\n",
    "    optimizer.post_update_params()\n",
    "\n",
    "# Testing\n",
    "dense1.forward(X_test)\n",
    "activation1.forward(dense1.output)\n",
    "dense2.forward(activation1.output)\n",
    "activation2.forward(dense2.output)\n",
    "dense3.forward(activation2.output)\n",
    "activation3.forward(dense3.output)\n",
    "\n",
    "# Calculate the loss and accuracy on the testing set\n",
    "test_loss = loss_function.calculate(activation3.output, Y_test)\n",
    "test_predictions = np.argmax(activation3.output, axis=1)\n",
    "test_accuracy = np.mean(test_predictions == Y_test)\n",
    "\n",
    "print(f\"Test accuracy: {test_accuracy:.3f}, Test loss: {test_loss:.3f}\")"
   ],
   "metadata": {
    "collapsed": false,
    "pycharm": {
     "name": "#%%\n"
    }
   }
  },
  {
   "cell_type": "code",
   "execution_count": 356,
   "outputs": [
    {
     "name": "stdout",
     "output_type": "stream",
     "text": [
      "epoch: 0, acc: 0.105, loss: 2.197\n",
      "epoch: 100, acc: 0.746, loss: 0.743\n",
      "epoch: 200, acc: 0.923, loss: 0.292\n",
      "epoch: 300, acc: 0.958, loss: 0.193\n",
      "Test accuracy: 0.486, Test loss: 2.753\n"
     ]
    }
   ],
   "source": [
    "# Create the model\n",
    "dense1 = Layer_Dense(X_train.shape[1], 64, weight_regularizer_l2=1e-3, bias_regularizer_l2=1e-3)\n",
    "activation1 = Activation_ReLU()\n",
    "dropout = Layer_Dropout(0.5)\n",
    "dense2 = Layer_Dense(64, 32)\n",
    "activation2 = Activation_ReLU()\n",
    "dense3 = Layer_Dense(32, len(fruit_types))\n",
    "activation3 = Activation_Softmax()\n",
    "\n",
    "# Define the loss function\n",
    "loss_function = Loss_CategoricalCrossentropy()\n",
    "\n",
    "# Define the optimizer\n",
    "optimizer = Optimizer_Adam(learning_rate=0.001, decay=1e-7)\n",
    "\n",
    "# Training loop\n",
    "for epoch in range(301):\n",
    "    # Forward pass\n",
    "    dense1.forward(X_train)\n",
    "    activation1.forward(dense1.output)\n",
    "    dropout.forward(activation1.output)\n",
    "    dense2.forward(dropout.output)\n",
    "    activation2.forward(dense2.output)\n",
    "    dense3.forward(activation2.output)\n",
    "    activation3.forward(dense3.output)\n",
    "\n",
    "    # Calculate loss\n",
    "    loss = loss_function.calculate(activation3.output, Y_train)\n",
    "\n",
    "    # Calculate accuracy\n",
    "    predictions = np.argmax(activation3.output, axis=1)\n",
    "    accuracy = np.mean(predictions == Y_train)\n",
    "\n",
    "    if epoch % 100 == 0:\n",
    "        print(f\"epoch: {epoch}, acc: {accuracy:.3f}, loss: {loss:.3f}\")\n",
    "\n",
    "    # Backward pass\n",
    "    loss_function.backward(activation3.output, Y_train)\n",
    "    activation3.backward(loss_function.dinputs)\n",
    "    dense3.backward(activation3.dinputs)\n",
    "    activation2.backward(dense3.dinputs)\n",
    "    dense2.backward(activation2.dinputs)\n",
    "    dropout.backward(dense2.dinputs)\n",
    "    activation1.backward(dropout.dinputs)\n",
    "    dense1.backward(activation1.dinputs)\n",
    "\n",
    "    # Update parameters\n",
    "    optimizer.pre_update_params()\n",
    "    optimizer.update_params(dense1)\n",
    "    optimizer.update_params(dense2)\n",
    "    optimizer.update_params(dense3)\n",
    "    optimizer.post_update_params()\n",
    "\n",
    "# Testing\n",
    "dense1.forward(X_test)\n",
    "activation1.forward(dense1.output)\n",
    "dropout.forward(activation1.output)\n",
    "dense2.forward(dropout.output)\n",
    "activation2.forward(dense2.output)\n",
    "dense3.forward(activation2.output)\n",
    "activation3.forward(dense3.output)\n",
    "\n",
    "# Calculate the loss and accuracy on the testing set\n",
    "test_loss = loss_function.calculate(activation3.output, Y_test)\n",
    "test_predictions = np.argmax(activation3.output, axis=1)\n",
    "test_accuracy = np.mean(test_predictions == Y_test)\n",
    "\n",
    "print(f\"Test accuracy: {test_accuracy:.3f}, Test loss: {test_loss:.3f}\")"
   ],
   "metadata": {
    "collapsed": false,
    "pycharm": {
     "name": "#%%\n"
    }
   }
  },
  {
   "cell_type": "code",
   "execution_count": 353,
   "outputs": [
    {
     "name": "stdout",
     "output_type": "stream",
     "text": [
      "epoch: 0, acc: 0.122, loss: 2.196\n",
      "epoch: 100, acc: 0.498, loss: 1.253\n",
      "epoch: 200, acc: 0.645, loss: 0.889\n",
      "epoch: 300, acc: 0.742, loss: 0.649\n",
      "epoch: 400, acc: 0.711, loss: 0.610\n",
      "epoch: 500, acc: 0.746, loss: 0.559\n",
      "epoch: 600, acc: 0.798, loss: 0.477\n",
      "epoch: 700, acc: 0.808, loss: 0.429\n",
      "epoch: 800, acc: 0.756, loss: 0.545\n",
      "epoch: 900, acc: 0.767, loss: 0.515\n",
      "Test accuracy: 0.514, Test loss: 2.492\n"
     ]
    }
   ],
   "source": [
    "# Create the model\n",
    "dense1 = Layer_Dense(X_train.shape[1], 32, weight_regularizer_l2=5e-4, bias_regularizer_l2=5e-4)\n",
    "activation1 = Activation_ReLU()\n",
    "dropout = Layer_Dropout(0.5)  # Adjust the dropout rate as needed\n",
    "dense2 = Layer_Dense(32, len(fruit_types))\n",
    "activation2 = Activation_Softmax()\n",
    "\n",
    "# Define the loss function\n",
    "loss_function = Loss_CategoricalCrossentropy()\n",
    "\n",
    "# Define the optimizer\n",
    "optimizer = Optimizer_Adam(learning_rate=0.001, decay=1e-7)\n",
    "\n",
    "# Training loop\n",
    "for epoch in range(901):\n",
    "    # Forward pass\n",
    "    dense1.forward(X_train)\n",
    "    activation1.forward(dense1.output)\n",
    "    dropout.forward(activation1.output)\n",
    "    dense2.forward(dropout.output)\n",
    "    activation2.forward(dense2.output)\n",
    "\n",
    "    # Calculate loss\n",
    "    loss = loss_function.calculate(activation2.output, Y_train)\n",
    "\n",
    "    # Calculate accuracy\n",
    "    predictions = np.argmax(activation2.output, axis=1)\n",
    "    accuracy = np.mean(predictions == Y_train)\n",
    "\n",
    "    if epoch % 100 == 0:\n",
    "        print(f\"epoch: {epoch}, acc: {accuracy:.3f}, loss: {loss:.3f}\")\n",
    "\n",
    "    # Backward pass\n",
    "    loss_function.backward(activation2.output, Y_train)\n",
    "    activation2.backward(loss_function.dinputs)\n",
    "    dense2.backward(activation2.dinputs)\n",
    "    dropout.backward(dense2.dinputs)\n",
    "    activation1.backward(dropout.dinputs)\n",
    "    dense1.backward(activation1.dinputs)\n",
    "\n",
    "    # Update parameters\n",
    "    optimizer.pre_update_params()\n",
    "    optimizer.update_params(dense1)\n",
    "    optimizer.update_params(dense2)\n",
    "    optimizer.post_update_params()\n",
    "\n",
    "# Testing\n",
    "dense1.forward(X_test)\n",
    "activation1.forward(dense1.output)\n",
    "dense2.forward(activation1.output)\n",
    "activation2.forward(dense2.output)\n",
    "\n",
    "# Calculate the loss and accuracy on the testing set\n",
    "test_loss = loss_function.calculate(activation2.output, Y_test)\n",
    "test_predictions = np.argmax(activation2.output, axis=1)\n",
    "test_accuracy = np.mean(test_predictions == Y_test)\n",
    "\n",
    "print(f\"Test accuracy: {test_accuracy:.3f}, Test loss: {test_loss:.3f}\")"
   ],
   "metadata": {
    "collapsed": false,
    "pycharm": {
     "name": "#%%\n"
    }
   }
  },
  {
   "cell_type": "code",
   "execution_count": 350,
   "outputs": [
    {
     "name": "stdout",
     "output_type": "stream",
     "text": [
      "Predicted fruit: mango\n"
     ]
    }
   ],
   "source": [
    "import cv2\n",
    "import numpy as np\n",
    "\n",
    "# Load and preprocess the image\n",
    "image_path = r\"C:\\Users\\armin\\PycharmProjects\\artificial_intelligence\\images\\mango\\Image_40.jpg\"  # Replace with the path to your image\n",
    "image = cv2.imread(image_path)\n",
    "image = cv2.resize(image, (64, 64))\n",
    "image = image / 255.0\n",
    "image = np.reshape(image, (1, -1))\n",
    "\n",
    "# Forward pass through the model\n",
    "dense1.forward(image)\n",
    "activation1.forward(dense1.output)\n",
    "dense2.forward(activation1.output)\n",
    "activation2.forward(dense2.output)\n",
    "\n",
    "# Get the predicted class index\n",
    "prediction = np.argmax(activation2.output, axis=1)\n",
    "\n",
    "# Map the predicted class index to the fruit name\n",
    "predicted_fruit = fruit_types[prediction[0]]\n",
    "\n",
    "# Print the predicted fruit\n",
    "print(f\"Predicted fruit: {predicted_fruit}\")"
   ],
   "metadata": {
    "collapsed": false,
    "pycharm": {
     "name": "#%%\n"
    }
   }
  }
 ],
 "metadata": {
  "kernelspec": {
   "display_name": "Python 3",
   "language": "python",
   "name": "python3"
  },
  "language_info": {
   "codemirror_mode": {
    "name": "ipython",
    "version": 2
   },
   "file_extension": ".py",
   "mimetype": "text/x-python",
   "name": "python",
   "nbconvert_exporter": "python",
   "pygments_lexer": "ipython2",
   "version": "2.7.6"
  }
 },
 "nbformat": 4,
 "nbformat_minor": 0
}