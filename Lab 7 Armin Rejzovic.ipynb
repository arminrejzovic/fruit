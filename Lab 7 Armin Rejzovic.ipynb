{
 "cells": [
  {
   "cell_type": "code",
   "execution_count": 1,
   "metadata": {
    "collapsed": true,
    "pycharm": {
     "name": "#%%\n"
    }
   },
   "outputs": [],
   "source": [
    "import numpy as np\n",
    "import nnfs\n",
    "from nnfs.datasets import spiral_data\n",
    "nnfs.init()"
   ]
  },
  {
   "cell_type": "code",
   "execution_count": 2,
   "outputs": [],
   "source": [
    "class Layer_Dense:\n",
    "    def __init__(self, n_inputs, n_neurons, weight_regularizer_l1=0, weight_regularizer_l2=0,bias_regularizer_l1=0, bias_regularizer_l2=0):\n",
    "\n",
    "        self.weights = 0.01 * np.random.randn(n_inputs, n_neurons)\n",
    "        self.biases = np.zeros((1, n_neurons))\n",
    "\n",
    "        self.weight_regularizer_l1 = weight_regularizer_l1\n",
    "        self.weight_regularizer_l2 = weight_regularizer_l2\n",
    "        self.bias_regularizer_l1 = bias_regularizer_l1\n",
    "        self.bias_regularizer_l2 = bias_regularizer_l2\n",
    "\n",
    "    def forward(self, inputs):\n",
    "        self.inputs = inputs\n",
    "        self.output = np.dot(inputs, self.weights) + self.biases\n",
    "\n",
    "    def backward(self, dvalues):\n",
    "        self.dweights = np.dot(self.inputs.T, dvalues)\n",
    "        self.dbiases = np.sum(dvalues, axis=0, keepdims=True)\n",
    "\n",
    "        if self.weight_regularizer_l1 > 0:\n",
    "            dL1 = np.ones_like(self.weights)\n",
    "            dL1[self.weights < 0] = -1\n",
    "            self.dweights += self.weight_regularizer_l1 * dL1\n",
    "\n",
    "        if self.weight_regularizer_l2 > 0:\n",
    "            self.dweights += 2 * self.weight_regularizer_l2 * \\\n",
    "            self.weights\n",
    "\n",
    "        if self.bias_regularizer_l1 > 0:\n",
    "            dL1 = np.ones_like(self.biases)\n",
    "            dL1[self.biases < 0] = -1\n",
    "            self.dbiases += self.bias_regularizer_l1 * dL1\n",
    "\n",
    "        if self.bias_regularizer_l2 > 0:\n",
    "            self.dbiases += 2 * self.bias_regularizer_l2 * \\\n",
    "            self.biases\n",
    "\n",
    "        self.dinputs = np.dot(dvalues, self.weights.T)"
   ],
   "metadata": {
    "collapsed": false,
    "pycharm": {
     "name": "#%%\n"
    }
   }
  },
  {
   "cell_type": "code",
   "execution_count": 3,
   "outputs": [],
   "source": [
    "class Layer_Dropout:\n",
    "    def __init__(self, rate):\n",
    "        self.rate = 1 - rate\n",
    "\n",
    "    def forward(self, inputs):\n",
    "        self.inputs = inputs\n",
    "        self.binary_mask = np.random.binomial(1, self.rate, size=inputs.shape) / self.rate\n",
    "        self.output = inputs * self.binary_mask\n",
    "\n",
    "    def backward(self, dvalues):\n",
    "        self.dinputs = dvalues * self.binary_mask"
   ],
   "metadata": {
    "collapsed": false,
    "pycharm": {
     "name": "#%%\n"
    }
   }
  },
  {
   "cell_type": "code",
   "execution_count": 4,
   "outputs": [],
   "source": [
    "class Activation_ReLU:\n",
    "    def forward(self, inputs):\n",
    "        self.inputs = inputs\n",
    "        self.output = np.maximum(0, inputs)\n",
    "\n",
    "    def backward(self, dvalues):\n",
    "        self.dinputs = dvalues.copy()\n",
    "        self.dinputs[self.inputs <= 0] = 0"
   ],
   "metadata": {
    "collapsed": false,
    "pycharm": {
     "name": "#%%\n"
    }
   }
  },
  {
   "cell_type": "code",
   "execution_count": 5,
   "outputs": [],
   "source": [
    "class Activation_Softmax:\n",
    "    def forward(self, inputs):\n",
    "        self.inputs = inputs\n",
    "        exp_values = np.exp(inputs - np.max(inputs, axis=1, keepdims=True))\n",
    "        probabilities = exp_values / np.sum(exp_values, axis=1, keepdims=True)\n",
    "        self.output = probabilities\n",
    "\n",
    "    def backward(self, dvalues):\n",
    "        self.dinputs = np.empty_like(dvalues)\n",
    "\n",
    "        for index, (single_output, single_dvalues) in enumerate(zip(self.output, dvalues)):\n",
    "            single_output = single_output.reshape(-1, 1)\n",
    "            jacobian_matrix = np.diagflat(single_output) - np.dot(single_output, single_output.T)\n",
    "            self.dinputs[index] = np.dot(jacobian_matrix, single_dvalues)"
   ],
   "metadata": {
    "collapsed": false,
    "pycharm": {
     "name": "#%%\n"
    }
   }
  },
  {
   "cell_type": "code",
   "execution_count": 6,
   "outputs": [],
   "source": [
    "class Activation_Sigmoid:\n",
    "    def forward(self, inputs):\n",
    "        self.inputs = inputs\n",
    "        self.output = 1 / (1 + np.exp(-inputs))\n",
    "\n",
    "    def backward(self, dvalues):\n",
    "        self.dinputs = dvalues * (1 - self.output) * self.output"
   ],
   "metadata": {
    "collapsed": false,
    "pycharm": {
     "name": "#%%\n"
    }
   }
  },
  {
   "cell_type": "code",
   "execution_count": 7,
   "outputs": [],
   "source": [
    "class Optimizer_SGD:\n",
    "    def __init__(self, learning_rate=1., decay=0., momentum=0.):\n",
    "        self.learning_rate = learning_rate\n",
    "        self.current_learning_rate = learning_rate\n",
    "        self.decay = decay\n",
    "        self.iterations = 0\n",
    "        self.momentum = momentum\n",
    "\n",
    "    def pre_update_params(self):\n",
    "        if self.decay:\n",
    "            self.current_learning_rate = self.learning_rate * (1. / (1. + self.decay * self.iterations))\n",
    "\n",
    "    def update_params(self, layer):\n",
    "        if self.momentum:\n",
    "            if not hasattr(layer, 'weight_momentums'):\n",
    "                layer.weight_momentums = np.zeros_like(layer.weights)\n",
    "                layer.bias_momentums = np.zeros_like(layer.biases)\n",
    "            weight_updates = self.momentum * layer.weight_momentums - self.current_learning_rate * layer.dweights\n",
    "            layer.weight_momentums = weight_updates\n",
    "\n",
    "            bias_updates = self.momentum * layer.bias_momentums - self.current_learning_rate * layer.dbiases\n",
    "            layer.bias_momentums = bias_updates\n",
    "\n",
    "        else:\n",
    "            weight_updates = -self.current_learning_rate * layer.dweights\n",
    "            bias_updates = -self.current_learning_rate * layer.dbiases\n",
    "\n",
    "        layer.weights += weight_updates\n",
    "        layer.biases += bias_updates\n",
    "\n",
    "\n",
    "    def post_update_params(self):\n",
    "        self.iterations += 1"
   ],
   "metadata": {
    "collapsed": false,
    "pycharm": {
     "name": "#%%\n"
    }
   }
  },
  {
   "cell_type": "code",
   "execution_count": 8,
   "outputs": [],
   "source": [
    "class Optimizer_Adagrad:\n",
    "    def __init__(self, learning_rate=1., decay=0., epsilon=1e-7):\n",
    "        self.learning_rate = learning_rate\n",
    "        self.current_learning_rate = learning_rate\n",
    "        self.decay = decay\n",
    "        self.iterations = 0\n",
    "        self.epsilon = epsilon\n",
    "\n",
    "    def pre_update_params(self):\n",
    "        if self.decay:\n",
    "            self.current_learning_rate = self.learning_rate * (1. / (1. + self.decay * self.iterations))\n",
    "\n",
    "    def update_params(self, layer):\n",
    "        if not hasattr(layer, 'weight_cache'):\n",
    "            layer.weight_cache = np.zeros_like(layer.weights)\n",
    "            layer.bias_cache = np.zeros_like(layer.biases)\n",
    "\n",
    "        layer.weight_cache += layer.dweights**2\n",
    "        layer.bias_cache += layer.dbiases**2\n",
    "\n",
    "        layer.weights += -self.current_learning_rate * layer.dweights / (np.sqrt(layer.weight_cache) + self.epsilon)\n",
    "        layer.biases += -self.current_learning_rate * \\\n",
    "        layer.dbiases / (np.sqrt(layer.bias_cache) + self.epsilon)\n",
    "\n",
    "\n",
    "    def post_update_params(self):\n",
    "        self.iterations += 1"
   ],
   "metadata": {
    "collapsed": false,
    "pycharm": {
     "name": "#%%\n"
    }
   }
  },
  {
   "cell_type": "code",
   "execution_count": 9,
   "outputs": [],
   "source": [
    "class Optimizer_RMSprop:\n",
    "    def __init__(self, learning_rate=0.001, decay=0., epsilon=1e-7, rho=0.9):\n",
    "        self.learning_rate = learning_rate\n",
    "        self.current_learning_rate = learning_rate\n",
    "        self.decay = decay\n",
    "        self.iterations = 0\n",
    "        self.epsilon = epsilon\n",
    "        self.rho = rho\n",
    "\n",
    "    def pre_update_params(self):\n",
    "        if self.decay:\n",
    "            self.current_learning_rate = self.learning_rate * (1. / (1. + self.decay * self.iterations))\n",
    "\n",
    "    def update_params(self, layer):\n",
    "        if not hasattr(layer, 'weight_cache'):\n",
    "            layer.weight_cache = np.zeros_like(layer.weights)\n",
    "            layer.bias_cache = np.zeros_like(layer.biases)\n",
    "\n",
    "        layer.weight_cache = self.rho * layer.weight_cache + (1 - self.rho) * layer.dweights**2\n",
    "        layer.bias_cache = self.rho * layer.bias_cache + (1 - self.rho) * layer.dbiases**2\n",
    "\n",
    "        layer.weights += -self.current_learning_rate * layer.dweights / (np.sqrt(layer.weight_cache) + self.epsilon)\n",
    "\n",
    "        layer.biases += -self.current_learning_rate * layer.dbiases / (np.sqrt(layer.bias_cache) + self.epsilon)\n",
    "\n",
    "    def post_update_params(self):\n",
    "        self.iterations += 1\n"
   ],
   "metadata": {
    "collapsed": false,
    "pycharm": {
     "name": "#%%\n"
    }
   }
  },
  {
   "cell_type": "code",
   "execution_count": 10,
   "outputs": [],
   "source": [
    "class Optimizer_Adam:\n",
    "    def __init__(self, learning_rate=0.001, decay=0., epsilon=1e-7, beta_1=0.9, beta_2=0.999):\n",
    "        self.learning_rate = learning_rate\n",
    "        self.current_learning_rate = learning_rate\n",
    "        self.decay = decay\n",
    "        self.iterations = 0\n",
    "        self.epsilon = epsilon\n",
    "        self.beta_1 = beta_1\n",
    "        self.beta_2 = beta_2\n",
    "\n",
    "    def pre_update_params(self):\n",
    "        if self.decay:\n",
    "            self.current_learning_rate = self.learning_rate * (1. / (1. + self.decay * self.iterations))\n",
    "\n",
    "    def update_params(self, layer):\n",
    "        if not hasattr(layer, 'weight_cache'):\n",
    "            layer.weight_momentums = np.zeros_like(layer.weights)\n",
    "            layer.weight_cache = np.zeros_like(layer.weights)\n",
    "            layer.bias_momentums = np.zeros_like(layer.biases)\n",
    "            layer.bias_cache = np.zeros_like(layer.biases)\n",
    "\n",
    "        layer.weight_momentums = self.beta_1 * layer.weight_momentums + (1 - self.beta_1) * layer.dweights\n",
    "\n",
    "        layer.bias_momentums = self.beta_1 * layer.bias_momentums + (1 - self.beta_1) * layer.dbiases\n",
    "\n",
    "        weight_momentums_corrected = layer.weight_momentums / (1 - self.beta_1 ** (self.iterations + 1))\n",
    "\n",
    "        bias_momentums_corrected = layer.bias_momentums / (1 - self.beta_1 ** (self.iterations + 1))\n",
    "\n",
    "        layer.weight_cache = self.beta_2 * layer.weight_cache + (1 - self.beta_2) * layer.dweights**2\n",
    "\n",
    "        layer.bias_cache = self.beta_2 * layer.bias_cache + (1 - self.beta_2) * layer.dbiases**2\n",
    "\n",
    "        weight_cache_corrected = layer.weight_cache / (1 - self.beta_2 ** (self.iterations + 1))\n",
    "\n",
    "        bias_cache_corrected = layer.bias_cache / (1 - self.beta_2 ** (self.iterations + 1))\n",
    "\n",
    "        layer.weights += -self.current_learning_rate * weight_momentums_corrected / (np.sqrt(weight_cache_corrected) +self.epsilon)\n",
    "\n",
    "        layer.biases += -self.current_learning_rate * bias_momentums_corrected / (np.sqrt(bias_cache_corrected) + self.epsilon)\n",
    "\n",
    "    def post_update_params(self):\n",
    "        self.iterations += 1"
   ],
   "metadata": {
    "collapsed": false,
    "pycharm": {
     "name": "#%%\n"
    }
   }
  },
  {
   "cell_type": "code",
   "execution_count": 11,
   "outputs": [],
   "source": [
    "class Loss:\n",
    "    def regularization_loss(self, layer):\n",
    "        regularization_loss = 0\n",
    "        if layer.weight_regularizer_l1 > 0:\n",
    "            regularization_loss += layer.weight_regularizer_l1 * np.sum(np.abs(layer.weights))\n",
    "\n",
    "        if layer.weight_regularizer_l2 > 0:\n",
    "            regularization_loss += layer.weight_regularizer_l2 * np.sum(layer.weights * layer.weights)\n",
    "\n",
    "        if layer.bias_regularizer_l1 > 0:\n",
    "            regularization_loss += layer.bias_regularizer_l1 * np.sum(np.abs(layer.biases))\n",
    "\n",
    "        if layer.bias_regularizer_l2 > 0:\n",
    "            regularization_loss += layer.bias_regularizer_l2 * np.sum(layer.biases * layer.biases)\n",
    "\n",
    "        return regularization_loss\n",
    "\n",
    "    def calculate(self, output, y):\n",
    "        sample_losses = self.forward(output, y)\n",
    "        data_loss = np.mean(sample_losses)\n",
    "        return data_loss\n"
   ],
   "metadata": {
    "collapsed": false,
    "pycharm": {
     "name": "#%%\n"
    }
   }
  },
  {
   "cell_type": "code",
   "execution_count": 12,
   "outputs": [],
   "source": [
    "class Loss_CategoricalCrossentropy(Loss):\n",
    "    def forward(self, y_pred, y_true):\n",
    "        samples = len(y_pred)\n",
    "        y_pred_clipped = np.clip(y_pred, 1e-7, 1 - 1e-7)\n",
    "        if len(y_true.shape) == 1:\n",
    "            correct_confidences = y_pred_clipped[range(samples),y_true]\n",
    "\n",
    "        elif len(y_true.shape) == 2:\n",
    "            correct_confidences = np.sum(y_pred_clipped * y_true, axis=1)\n",
    "\n",
    "        negative_log_likelihoods = -np.log(correct_confidences)\n",
    "        return negative_log_likelihoods\n",
    "\n",
    "    def backward(self, dvalues, y_true):\n",
    "        samples = len(dvalues)\n",
    "        labels = len(dvalues[0])\n",
    "        if len(y_true.shape) == 1:\n",
    "            y_true = np.eye(labels)[y_true]\n",
    "\n",
    "        self.dinputs = -y_true / dvalues\n",
    "        self.dinputs = self.dinputs / samples"
   ],
   "metadata": {
    "collapsed": false,
    "pycharm": {
     "name": "#%%\n"
    }
   }
  },
  {
   "cell_type": "code",
   "execution_count": 13,
   "outputs": [],
   "source": [
    "class Activation_Softmax_Loss_CategoricalCrossentropy():\n",
    "    def __init__(self):\n",
    "        self.activation = Activation_Softmax()\n",
    "        self.loss = Loss_CategoricalCrossentropy()\n",
    "\n",
    "    def forward(self, inputs, y_true):\n",
    "        self.activation.forward(inputs)\n",
    "        self.output = self.activation.output\n",
    "        return self.loss.calculate(self.output, y_true)\n",
    "\n",
    "    def backward(self, dvalues, y_true):\n",
    "        samples = len(dvalues)\n",
    "        if len(y_true.shape) == 2:\n",
    "            y_true = np.argmax(y_true, axis=1)\n",
    "        self.dinputs = dvalues.copy()\n",
    "        self.dinputs[range(samples), y_true] -= 1\n",
    "        self.dinputs = self.dinputs / samples"
   ],
   "metadata": {
    "collapsed": false,
    "pycharm": {
     "name": "#%%\n"
    }
   }
  },
  {
   "cell_type": "code",
   "execution_count": 14,
   "outputs": [],
   "source": [
    "class Loss_BinaryCrossentropy(Loss):\n",
    "    def forward(self, y_pred, y_true):\n",
    "        y_pred_clipped = np.clip(y_pred, 1e-7, 1 - 1e-7)\n",
    "        sample_losses = -(y_true * np.log(y_pred_clipped) + (1 - y_true) * np.log(1 - y_pred_clipped))\n",
    "        sample_losses = np.mean(sample_losses, axis=-1)\n",
    "        return sample_losses\n",
    "\n",
    "    def backward(self, dvalues, y_true):\n",
    "        samples = len(dvalues)\n",
    "        outputs = len(dvalues[0])\n",
    "        clipped_dvalues = np.clip(dvalues, 1e-7, 1 - 1e-7)\n",
    "        self.dinputs = -(y_true / clipped_dvalues - (1 - y_true) / (1 - clipped_dvalues)) / outputs\n",
    "        self.dinputs = self.dinputs / samples"
   ],
   "metadata": {
    "collapsed": false,
    "pycharm": {
     "name": "#%%\n"
    }
   }
  },
  {
   "cell_type": "code",
   "execution_count": 15,
   "outputs": [
    {
     "name": "stdout",
     "output_type": "stream",
     "text": [
      "epoch: 0, acc: 0.500, loss: 0.693 (data_loss: 0.693, reg_loss: 0.000), lr: 0.001\n",
      "epoch: 100, acc: 0.630, loss: 0.674 (data_loss: 0.673, reg_loss: 0.001), lr: 0.0009999505024501287\n",
      "epoch: 200, acc: 0.625, loss: 0.669 (data_loss: 0.668, reg_loss: 0.001), lr: 0.0009999005098992651\n",
      "epoch: 300, acc: 0.645, loss: 0.665 (data_loss: 0.663, reg_loss: 0.002), lr: 0.000999850522346909\n",
      "epoch: 400, acc: 0.650, loss: 0.659 (data_loss: 0.657, reg_loss: 0.002), lr: 0.0009998005397923115\n",
      "epoch: 500, acc: 0.675, loss: 0.648 (data_loss: 0.644, reg_loss: 0.004), lr: 0.0009997505622347225\n",
      "epoch: 600, acc: 0.720, loss: 0.632 (data_loss: 0.626, reg_loss: 0.006), lr: 0.0009997005896733929\n",
      "epoch: 700, acc: 0.770, loss: 0.614 (data_loss: 0.604, reg_loss: 0.010), lr: 0.0009996506221075735\n",
      "epoch: 800, acc: 0.775, loss: 0.594 (data_loss: 0.579, reg_loss: 0.015), lr: 0.000999600659536515\n",
      "epoch: 900, acc: 0.775, loss: 0.575 (data_loss: 0.556, reg_loss: 0.020), lr: 0.0009995507019594694\n",
      "epoch: 1000, acc: 0.785, loss: 0.560 (data_loss: 0.536, reg_loss: 0.024), lr: 0.000999500749375687\n",
      "epoch: 1100, acc: 0.790, loss: 0.547 (data_loss: 0.520, reg_loss: 0.028), lr: 0.0009994508017844195\n",
      "epoch: 1200, acc: 0.790, loss: 0.536 (data_loss: 0.505, reg_loss: 0.031), lr: 0.0009994008591849186\n",
      "epoch: 1300, acc: 0.795, loss: 0.524 (data_loss: 0.491, reg_loss: 0.033), lr: 0.0009993509215764362\n",
      "epoch: 1400, acc: 0.795, loss: 0.513 (data_loss: 0.478, reg_loss: 0.036), lr: 0.0009993009889582235\n",
      "epoch: 1500, acc: 0.810, loss: 0.502 (data_loss: 0.464, reg_loss: 0.038), lr: 0.0009992510613295335\n",
      "epoch: 1600, acc: 0.810, loss: 0.493 (data_loss: 0.452, reg_loss: 0.040), lr: 0.0009992011386896176\n",
      "epoch: 1700, acc: 0.820, loss: 0.484 (data_loss: 0.441, reg_loss: 0.043), lr: 0.0009991512210377285\n",
      "epoch: 1800, acc: 0.825, loss: 0.475 (data_loss: 0.431, reg_loss: 0.044), lr: 0.0009991013083731183\n",
      "epoch: 1900, acc: 0.825, loss: 0.468 (data_loss: 0.422, reg_loss: 0.046), lr: 0.0009990514006950402\n",
      "epoch: 2000, acc: 0.825, loss: 0.461 (data_loss: 0.413, reg_loss: 0.048), lr: 0.0009990014980027463\n",
      "epoch: 2100, acc: 0.835, loss: 0.454 (data_loss: 0.405, reg_loss: 0.049), lr: 0.0009989516002954898\n",
      "epoch: 2200, acc: 0.840, loss: 0.448 (data_loss: 0.398, reg_loss: 0.050), lr: 0.000998901707572524\n",
      "epoch: 2300, acc: 0.845, loss: 0.443 (data_loss: 0.392, reg_loss: 0.051), lr: 0.0009988518198331018\n",
      "epoch: 2400, acc: 0.850, loss: 0.438 (data_loss: 0.386, reg_loss: 0.052), lr: 0.0009988019370764769\n",
      "epoch: 2500, acc: 0.855, loss: 0.433 (data_loss: 0.380, reg_loss: 0.053), lr: 0.0009987520593019025\n",
      "epoch: 2600, acc: 0.865, loss: 0.428 (data_loss: 0.375, reg_loss: 0.053), lr: 0.000998702186508632\n",
      "epoch: 2700, acc: 0.865, loss: 0.424 (data_loss: 0.370, reg_loss: 0.054), lr: 0.00099865231869592\n",
      "epoch: 2800, acc: 0.865, loss: 0.420 (data_loss: 0.365, reg_loss: 0.055), lr: 0.0009986024558630198\n",
      "epoch: 2900, acc: 0.870, loss: 0.416 (data_loss: 0.361, reg_loss: 0.055), lr: 0.0009985525980091856\n",
      "epoch: 3000, acc: 0.870, loss: 0.412 (data_loss: 0.357, reg_loss: 0.055), lr: 0.000998502745133672\n",
      "epoch: 3100, acc: 0.875, loss: 0.409 (data_loss: 0.353, reg_loss: 0.056), lr: 0.0009984528972357331\n",
      "epoch: 3200, acc: 0.875, loss: 0.405 (data_loss: 0.349, reg_loss: 0.056), lr: 0.0009984030543146237\n",
      "epoch: 3300, acc: 0.880, loss: 0.402 (data_loss: 0.346, reg_loss: 0.056), lr: 0.0009983532163695982\n",
      "epoch: 3400, acc: 0.885, loss: 0.399 (data_loss: 0.343, reg_loss: 0.057), lr: 0.000998303383399912\n",
      "epoch: 3500, acc: 0.890, loss: 0.396 (data_loss: 0.340, reg_loss: 0.057), lr: 0.0009982535554048193\n",
      "epoch: 3600, acc: 0.890, loss: 0.394 (data_loss: 0.337, reg_loss: 0.057), lr: 0.000998203732383576\n",
      "epoch: 3700, acc: 0.890, loss: 0.391 (data_loss: 0.334, reg_loss: 0.057), lr: 0.0009981539143354365\n",
      "epoch: 3800, acc: 0.890, loss: 0.388 (data_loss: 0.331, reg_loss: 0.057), lr: 0.0009981041012596574\n",
      "epoch: 3900, acc: 0.890, loss: 0.385 (data_loss: 0.328, reg_loss: 0.057), lr: 0.0009980542931554933\n",
      "epoch: 4000, acc: 0.900, loss: 0.378 (data_loss: 0.321, reg_loss: 0.057), lr: 0.0009980044900222008\n",
      "epoch: 4100, acc: 0.900, loss: 0.373 (data_loss: 0.316, reg_loss: 0.057), lr: 0.0009979546918590348\n",
      "epoch: 4200, acc: 0.900, loss: 0.370 (data_loss: 0.313, reg_loss: 0.057), lr: 0.0009979048986652524\n",
      "epoch: 4300, acc: 0.900, loss: 0.368 (data_loss: 0.310, reg_loss: 0.058), lr: 0.000997855110440109\n",
      "epoch: 4400, acc: 0.900, loss: 0.365 (data_loss: 0.307, reg_loss: 0.058), lr: 0.0009978053271828614\n",
      "epoch: 4500, acc: 0.905, loss: 0.363 (data_loss: 0.305, reg_loss: 0.058), lr: 0.0009977555488927658\n",
      "epoch: 4600, acc: 0.905, loss: 0.361 (data_loss: 0.303, reg_loss: 0.058), lr: 0.000997705775569079\n",
      "epoch: 4700, acc: 0.905, loss: 0.358 (data_loss: 0.300, reg_loss: 0.058), lr: 0.0009976560072110577\n",
      "epoch: 4800, acc: 0.910, loss: 0.354 (data_loss: 0.296, reg_loss: 0.058), lr: 0.0009976062438179587\n",
      "epoch: 4900, acc: 0.910, loss: 0.351 (data_loss: 0.292, reg_loss: 0.059), lr: 0.0009975564853890394\n",
      "epoch: 5000, acc: 0.910, loss: 0.348 (data_loss: 0.288, reg_loss: 0.060), lr: 0.000997506731923557\n",
      "epoch: 5100, acc: 0.910, loss: 0.345 (data_loss: 0.285, reg_loss: 0.060), lr: 0.0009974569834207687\n",
      "epoch: 5200, acc: 0.915, loss: 0.342 (data_loss: 0.282, reg_loss: 0.061), lr: 0.0009974072398799322\n",
      "epoch: 5300, acc: 0.915, loss: 0.340 (data_loss: 0.278, reg_loss: 0.061), lr: 0.0009973575013003048\n",
      "epoch: 5400, acc: 0.915, loss: 0.337 (data_loss: 0.276, reg_loss: 0.062), lr: 0.0009973077676811448\n",
      "epoch: 5500, acc: 0.915, loss: 0.335 (data_loss: 0.273, reg_loss: 0.062), lr: 0.00099725803902171\n",
      "epoch: 5600, acc: 0.915, loss: 0.333 (data_loss: 0.271, reg_loss: 0.062), lr: 0.0009972083153212581\n",
      "epoch: 5700, acc: 0.915, loss: 0.331 (data_loss: 0.269, reg_loss: 0.062), lr: 0.000997158596579048\n",
      "epoch: 5800, acc: 0.915, loss: 0.329 (data_loss: 0.267, reg_loss: 0.062), lr: 0.0009971088827943377\n",
      "epoch: 5900, acc: 0.915, loss: 0.328 (data_loss: 0.265, reg_loss: 0.062), lr: 0.0009970591739663862\n",
      "epoch: 6000, acc: 0.915, loss: 0.326 (data_loss: 0.264, reg_loss: 0.062), lr: 0.0009970094700944517\n",
      "epoch: 6100, acc: 0.915, loss: 0.324 (data_loss: 0.262, reg_loss: 0.062), lr: 0.0009969597711777935\n",
      "epoch: 6200, acc: 0.915, loss: 0.322 (data_loss: 0.261, reg_loss: 0.062), lr: 0.00099691007721567\n",
      "epoch: 6300, acc: 0.920, loss: 0.318 (data_loss: 0.256, reg_loss: 0.062), lr: 0.000996860388207341\n",
      "epoch: 6400, acc: 0.925, loss: 0.315 (data_loss: 0.253, reg_loss: 0.062), lr: 0.0009968107041520655\n",
      "epoch: 6500, acc: 0.925, loss: 0.310 (data_loss: 0.249, reg_loss: 0.062), lr: 0.000996761025049103\n",
      "epoch: 6600, acc: 0.935, loss: 0.307 (data_loss: 0.245, reg_loss: 0.062), lr: 0.000996711350897713\n",
      "epoch: 6700, acc: 0.935, loss: 0.304 (data_loss: 0.243, reg_loss: 0.062), lr: 0.0009966616816971556\n",
      "epoch: 6800, acc: 0.935, loss: 0.303 (data_loss: 0.241, reg_loss: 0.062), lr: 0.00099661201744669\n",
      "epoch: 6900, acc: 0.935, loss: 0.301 (data_loss: 0.239, reg_loss: 0.062), lr: 0.0009965623581455767\n",
      "epoch: 7000, acc: 0.940, loss: 0.299 (data_loss: 0.238, reg_loss: 0.062), lr: 0.000996512703793076\n",
      "epoch: 7100, acc: 0.935, loss: 0.298 (data_loss: 0.236, reg_loss: 0.062), lr: 0.0009964630543884481\n",
      "epoch: 7200, acc: 0.940, loss: 0.296 (data_loss: 0.234, reg_loss: 0.061), lr: 0.0009964134099309536\n",
      "epoch: 7300, acc: 0.935, loss: 0.294 (data_loss: 0.233, reg_loss: 0.061), lr: 0.0009963637704198528\n",
      "epoch: 7400, acc: 0.940, loss: 0.293 (data_loss: 0.231, reg_loss: 0.061), lr: 0.0009963141358544066\n",
      "epoch: 7500, acc: 0.940, loss: 0.291 (data_loss: 0.230, reg_loss: 0.061), lr: 0.000996264506233876\n",
      "epoch: 7600, acc: 0.940, loss: 0.290 (data_loss: 0.229, reg_loss: 0.061), lr: 0.0009962148815575223\n",
      "epoch: 7700, acc: 0.940, loss: 0.289 (data_loss: 0.227, reg_loss: 0.061), lr: 0.000996165261824606\n",
      "epoch: 7800, acc: 0.940, loss: 0.287 (data_loss: 0.226, reg_loss: 0.061), lr: 0.0009961156470343895\n",
      "epoch: 7900, acc: 0.940, loss: 0.286 (data_loss: 0.225, reg_loss: 0.061), lr: 0.0009960660371861334\n",
      "epoch: 8000, acc: 0.940, loss: 0.285 (data_loss: 0.224, reg_loss: 0.061), lr: 0.0009960164322790998\n",
      "epoch: 8100, acc: 0.940, loss: 0.282 (data_loss: 0.222, reg_loss: 0.060), lr: 0.0009959668323125503\n",
      "epoch: 8200, acc: 0.940, loss: 0.280 (data_loss: 0.220, reg_loss: 0.060), lr: 0.000995917237285747\n",
      "epoch: 8300, acc: 0.940, loss: 0.279 (data_loss: 0.219, reg_loss: 0.060), lr: 0.000995867647197952\n",
      "epoch: 8400, acc: 0.940, loss: 0.277 (data_loss: 0.218, reg_loss: 0.060), lr: 0.0009958180620484277\n",
      "epoch: 8500, acc: 0.940, loss: 0.276 (data_loss: 0.216, reg_loss: 0.060), lr: 0.0009957684818364362\n",
      "epoch: 8600, acc: 0.940, loss: 0.275 (data_loss: 0.215, reg_loss: 0.059), lr: 0.0009957189065612402\n",
      "epoch: 8700, acc: 0.945, loss: 0.273 (data_loss: 0.214, reg_loss: 0.059), lr: 0.000995669336222102\n",
      "epoch: 8800, acc: 0.945, loss: 0.272 (data_loss: 0.213, reg_loss: 0.059), lr: 0.000995619770818285\n",
      "epoch: 8900, acc: 0.945, loss: 0.271 (data_loss: 0.212, reg_loss: 0.059), lr: 0.0009955702103490519\n",
      "epoch: 9000, acc: 0.945, loss: 0.270 (data_loss: 0.211, reg_loss: 0.059), lr: 0.000995520654813666\n",
      "epoch: 9100, acc: 0.945, loss: 0.269 (data_loss: 0.210, reg_loss: 0.059), lr: 0.0009954711042113903\n",
      "epoch: 9200, acc: 0.945, loss: 0.268 (data_loss: 0.210, reg_loss: 0.058), lr: 0.0009954215585414883\n",
      "epoch: 9300, acc: 0.945, loss: 0.267 (data_loss: 0.209, reg_loss: 0.058), lr: 0.000995372017803224\n",
      "epoch: 9400, acc: 0.945, loss: 0.266 (data_loss: 0.208, reg_loss: 0.058), lr: 0.0009953224819958604\n",
      "epoch: 9500, acc: 0.945, loss: 0.265 (data_loss: 0.207, reg_loss: 0.058), lr: 0.000995272951118662\n",
      "epoch: 9600, acc: 0.945, loss: 0.264 (data_loss: 0.206, reg_loss: 0.057), lr: 0.0009952234251708924\n",
      "epoch: 9700, acc: 0.945, loss: 0.263 (data_loss: 0.206, reg_loss: 0.057), lr: 0.000995173904151816\n",
      "epoch: 9800, acc: 0.945, loss: 0.262 (data_loss: 0.205, reg_loss: 0.057), lr: 0.0009951243880606966\n",
      "epoch: 9900, acc: 0.945, loss: 0.261 (data_loss: 0.204, reg_loss: 0.057), lr: 0.0009950748768967994\n",
      "epoch: 10000, acc: 0.945, loss: 0.260 (data_loss: 0.204, reg_loss: 0.056), lr: 0.0009950253706593885\n",
      "validation, acc: 0.920, loss: 0.237\n"
     ]
    }
   ],
   "source": [
    "X, y = spiral_data(samples=100, classes=2)\n",
    "y = y.reshape(-1, 1)\n",
    "\n",
    "dense1 = Layer_Dense(2, 64, weight_regularizer_l2=5e-4, bias_regularizer_l2=5e-4)\n",
    "activation1 = Activation_ReLU()\n",
    "dense2 = Layer_Dense(64, 1)\n",
    "activation2 = Activation_Sigmoid()\n",
    "loss_function = Loss_BinaryCrossentropy()\n",
    "optimizer = Optimizer_Adam(decay=5e-7)\n",
    "for epoch in range(10001):\n",
    "    dense1.forward(X)\n",
    "    activation1.forward(dense1.output)\n",
    "    dense2.forward(activation1.output)\n",
    "    activation2.forward(dense2.output)\n",
    "    data_loss = loss_function.calculate(activation2.output, y)\n",
    "    regularization_loss = loss_function.regularization_loss(dense1) + loss_function.regularization_loss(dense2)\n",
    "    loss = data_loss + regularization_loss\n",
    "    predictions = (activation2.output > 0.5) * 1\n",
    "    accuracy = np.mean(predictions==y)\n",
    "    if not epoch % 100:\n",
    "        print(f'epoch: {epoch}, ' + f'acc: {accuracy:.3f}, '+ f'loss: {loss:.3f} (' + f'data_loss: {data_loss:.3f}, ' + f'reg_loss: {regularization_loss:.3f}), ' +f'lr: {optimizer.current_learning_rate}')\n",
    "\n",
    "    loss_function.backward(activation2.output, y)\n",
    "    activation2.backward(loss_function.dinputs)\n",
    "    dense2.backward(activation2.dinputs)\n",
    "    activation1.backward(dense2.dinputs)\n",
    "    dense1.backward(activation1.dinputs)\n",
    "\n",
    "    optimizer.pre_update_params()\n",
    "    optimizer.update_params(dense1)\n",
    "    optimizer.update_params(dense2)\n",
    "    optimizer.post_update_params()\n",
    "\n",
    "\n",
    "X_test, y_test = spiral_data(samples=100, classes=2)\n",
    "y_test = y_test.reshape(-1, 1)\n",
    "dense1.forward(X_test)\n",
    "activation1.forward(dense1.output)\n",
    "dense2.forward(activation1.output)\n",
    "activation2.forward(dense2.output)\n",
    "loss = loss_function.calculate(activation2.output, y_test)\n",
    "predictions = (activation2.output > 0.5) * 1\n",
    "accuracy = np.mean(predictions==y_test)\n",
    "print(f'validation, acc: {accuracy:.3f}, loss: {loss:.3f}')"
   ],
   "metadata": {
    "collapsed": false,
    "pycharm": {
     "name": "#%%\n"
    }
   }
  },
  {
   "cell_type": "code",
   "execution_count": 16,
   "outputs": [
    {
     "name": "stdout",
     "output_type": "stream",
     "text": [
      "(200, 2)\n"
     ]
    }
   ],
   "source": [
    "print(X.shape)"
   ],
   "metadata": {
    "collapsed": false,
    "pycharm": {
     "name": "#%%\n"
    }
   }
  }
 ],
 "metadata": {
  "kernelspec": {
   "display_name": "Python 3",
   "language": "python",
   "name": "python3"
  },
  "language_info": {
   "codemirror_mode": {
    "name": "ipython",
    "version": 2
   },
   "file_extension": ".py",
   "mimetype": "text/x-python",
   "name": "python",
   "nbconvert_exporter": "python",
   "pygments_lexer": "ipython2",
   "version": "2.7.6"
  }
 },
 "nbformat": 4,
 "nbformat_minor": 0
}