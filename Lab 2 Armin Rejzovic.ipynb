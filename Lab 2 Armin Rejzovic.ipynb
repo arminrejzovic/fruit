{
 "cells": [
  {
   "cell_type": "code",
   "execution_count": 1,
   "outputs": [],
   "source": [
    "import numpy as np"
   ],
   "metadata": {
    "collapsed": false,
    "pycharm": {
     "name": "#%%\n"
    }
   }
  },
  {
   "cell_type": "code",
   "execution_count": 4,
   "outputs": [
    {
     "name": "stdout",
     "output_type": "stream",
     "text": [
      "[[2.1372 1.894  2.0068 1.2995]\n",
      " [1.9251 1.9901 1.685  1.3939]\n",
      " [2.1399 1.724  2.1518 1.0015]\n",
      " [2.0187 2.1181 1.874  1.2305]]\n"
     ]
    }
   ],
   "source": [
    "inputs = [\n",
    "    [0.54, 0.31, 0.33, 0.62, 0.31],\n",
    "    [0.41, 0.62, 0.12, 0.2, 0.99],\n",
    "    [0.49, 0.64, 0.77, 0.22, 0.11],\n",
    "    [0.66, 0.1, 0.44, 0.31, 0.72]\n",
    "] # 5x4\n",
    "weights = [\n",
    "    [0.82, 0.65, 0.68, 0.99, 0.37],\n",
    "    [0.90, 0.30, 0.65, 0.83, 0.89],\n",
    "    [0.66, 0.52, 0.76, 0.76, 0.12],\n",
    "    [0.16, 0.32, 0.06, 0.79, 0.53]\n",
    "] # 5x4\n",
    "\n",
    "biases = [0.54, 0.31, 0.73, 0.44]\n",
    "\n",
    "inputs = np.array(inputs)\n",
    "weights = np.array(weights).T\n",
    "\n",
    "results = np.dot(inputs, weights) + biases\n",
    "print(results)"
   ],
   "metadata": {
    "collapsed": false,
    "pycharm": {
     "name": "#%%\n"
    }
   }
  },
  {
   "cell_type": "code",
   "execution_count": 8,
   "outputs": [
    {
     "name": "stdout",
     "output_type": "stream",
     "text": [
      "[[1.911635 4.186563 4.129554 4.440648]\n",
      " [2.081894 3.121322 3.397195 3.927069]\n",
      " [2.268926 3.680871 3.518862 4.347443]\n",
      " [1.51717  3.160958 4.014669 4.522537]]\n"
     ]
    }
   ],
   "source": [
    "weights2 = [\n",
    "    [0.03, 0.34, 0.54, 0.05],\n",
    "    [0.04, 0.15, 0.61, 0.62],\n",
    "    [0.43, 0.75, 0.07, 0.86],\n",
    "    [0.33, 0.57, 0.7, 0.68]\n",
    "]\n",
    "biases2 = [\n",
    "    [0.48, 0.93, 0.77, 0.55],\n",
    "    [0.76, 0.11, 0.05, 0.20],\n",
    "    [0.88, 0.51, 0.46, 0.64],\n",
    "    [0.16, 0.05, 0.64, 0.66],\n",
    "]\n",
    "\n",
    "weights2 = np.array(weights2)\n",
    "result2 = np.dot(results, weights2) + biases2\n",
    "\n",
    "print(result2)\n",
    "\n",
    "arr = np.array([1,2,3])\n",
    "arr.shape"
   ],
   "metadata": {
    "collapsed": false,
    "pycharm": {
     "name": "#%%\n"
    }
   }
  }
 ],
 "metadata": {
  "kernelspec": {
   "display_name": "Python 3",
   "language": "python",
   "name": "python3"
  },
  "language_info": {
   "codemirror_mode": {
    "name": "ipython",
    "version": 2
   },
   "file_extension": ".py",
   "mimetype": "text/x-python",
   "name": "python",
   "nbconvert_exporter": "python",
   "pygments_lexer": "ipython2",
   "version": "2.7.6"
  }
 },
 "nbformat": 4,
 "nbformat_minor": 0
}